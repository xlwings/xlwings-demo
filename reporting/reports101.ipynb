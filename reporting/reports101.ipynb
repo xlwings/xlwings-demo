{
 "cells": [
  {
   "cell_type": "code",
   "execution_count": 1,
   "metadata": {},
   "outputs": [],
   "source": [
    "from pathlib import Path\n",
    "import pandas as pd\n",
    "from matplotlib.figure import Figure\n",
    "import xlwings as xw\n",
    "# Requires a license key: https://www.xlwings.org/trial\n",
    "from xlwings.pro import Markdown, MarkdownStyle\n",
    "from xlwings.pro.reports import create_report, Image"
   ]
  },
  {
   "cell_type": "markdown",
   "metadata": {},
   "source": [
    "### Some data"
   ]
  },
  {
   "cell_type": "code",
   "execution_count": 2,
   "metadata": {},
   "outputs": [],
   "source": [
    "# Matplotlib\n",
    "fig = Figure(figsize=(4, 3))\n",
    "ax = fig.add_subplot(111)\n",
    "ax.plot([1, 2, 3, 4, 5])\n",
    "\n",
    "# Pandas DataFrame\n",
    "perf_data = pd.DataFrame(index=['South', 'North', 'West'],\n",
    "                         columns=[2020, 2021],\n",
    "                         data=[[1., 2.], [3., 4.], [5, 6]])\n",
    "perf_data.index.name = 'Sales'\n",
    "\n",
    "# Picture\n",
    "logo = Image(Path('xlwings.jpg').resolve())\n",
    "\n",
    "# Float\n",
    "perf = 0.12"
   ]
  },
  {
   "cell_type": "code",
   "execution_count": 3,
   "metadata": {},
   "outputs": [],
   "source": [
    "# Markdown\n",
    "\n",
    "mytext = \"\"\"\\\n",
    "# Q1 2021 Results\n",
    "\n",
    "The perfomance was {{ perf }}.\n",
    "This was due to the following points:\n",
    "\n",
    "* More sales\n",
    "* Cost cuts\n",
    "\n",
    "# Sales were strong\n",
    "\n",
    "*Automation was the most important driver*.\n",
    "More info on request.\n",
    "\"\"\"\n",
    "\n",
    "style = MarkdownStyle()\n",
    "style.h1.font.color = (21, 164, 58)\n",
    "style.h1.font.size = 14"
   ]
  },
  {
   "cell_type": "markdown",
   "metadata": {},
   "source": [
    "### Using an invisible App"
   ]
  },
  {
   "cell_type": "code",
   "execution_count": 5,
   "metadata": {},
   "outputs": [],
   "source": [
    "# Optional: collect data into a dictionary\n",
    "data = dict(perf_data=perf_data.reset_index(), logo=logo,\n",
    "            perf=perf, fig=fig, summary=Markdown(mytext, style))\n",
    "\n",
    "with xw.App(visible=False) as app:\n",
    "    wb = app.create_report('report_template.xlsx',\n",
    "                           'report.xlsx',\n",
    "                            **data)\n",
    "    wb.to_pdf()"
   ]
  },
  {
   "cell_type": "markdown",
   "metadata": {},
   "source": [
    "### Render a template on a sheet"
   ]
  },
  {
   "cell_type": "code",
   "execution_count": null,
   "metadata": {},
   "outputs": [],
   "source": [
    "wb = xw.Book('report_template.xlsx')\n",
    "template_sheet = wb.sheets[0]"
   ]
  },
  {
   "cell_type": "code",
   "execution_count": null,
   "metadata": {},
   "outputs": [],
   "source": [
    "# Copy the template sheet first!\n",
    "# You could provide a name via copy(name=...)\n",
    "report_sheet = template_sheet.copy()"
   ]
  },
  {
   "cell_type": "code",
   "execution_count": null,
   "metadata": {},
   "outputs": [],
   "source": [
    "report_sheet.render_template(**data)"
   ]
  },
  {
   "cell_type": "code",
   "execution_count": null,
   "metadata": {},
   "outputs": [],
   "source": [
    "report_sheet.to_pdf()"
   ]
  }
 ],
 "metadata": {
  "kernelspec": {
   "display_name": "Python 3",
   "language": "python",
   "name": "python3"
  },
  "language_info": {
   "codemirror_mode": {
    "name": "ipython",
    "version": 3
   },
   "file_extension": ".py",
   "mimetype": "text/x-python",
   "name": "python",
   "nbconvert_exporter": "python",
   "pygments_lexer": "ipython3",
   "version": "3.7.4"
  }
 },
 "nbformat": 4,
 "nbformat_minor": 4
}
