{
 "cells": [
  {
   "cell_type": "code",
   "execution_count": 31,
   "metadata": {},
   "outputs": [],
   "source": [
    "from pathlib import Path\n",
    "import pandas as pd\n",
    "from PIL import Image\n",
    "from matplotlib.figure import Figure\n",
    "import xlwings as xw\n",
    "# Requires a license key: https://www.xlwings.org/trial\n",
    "from xlwings.pro import Markdown, MarkdownStyle\n",
    "from xlwings.pro.reports import create_report"
   ]
  },
  {
   "cell_type": "markdown",
   "metadata": {},
   "source": [
    "### Some data"
   ]
  },
  {
   "cell_type": "code",
   "execution_count": 32,
   "metadata": {},
   "outputs": [],
   "source": [
    "# Matplotlib\n",
    "fig = Figure(figsize=(4, 3))\n",
    "ax = fig.add_subplot(111)\n",
    "ax.plot([1, 2, 3, 4, 5])\n",
    "\n",
    "# Pandas DataFrame\n",
    "perf_data = pd.DataFrame(index=['South', 'North', 'West'],\n",
    "                         columns=[2020, 2021],\n",
    "                         data=[[1., 2.], [3., 4.], [5, 6]])\n",
    "perf_data.index.name = 'Sales'\n",
    "# Picture\n",
    "logo = Image.open(Path('xlwings.jpg'))\n",
    "\n",
    "# Float\n",
    "perf = 0.12 * 100"
   ]
  },
  {
   "cell_type": "code",
   "execution_count": 33,
   "metadata": {},
   "outputs": [],
   "source": [
    "# Markdown\n",
    "\n",
    "mytext = f\"\"\"\\\n",
    "# Q1 2021 Results\n",
    "\n",
    "The perfomance was {perf}%.\n",
    "This was due to the following points:\n",
    "\n",
    "* More sales\n",
    "* Cost cuts\n",
    "\n",
    "# Sales were strong\n",
    "\n",
    "*Automation was the most important driver*.\n",
    "More info on request.\n",
    "\"\"\"\n",
    "\n",
    "style = MarkdownStyle()\n",
    "style.h1.font.color = (21, 164, 58)\n",
    "style.h1.font.size = 14"
   ]
  },
  {
   "cell_type": "markdown",
   "metadata": {},
   "source": [
    "### Render a template on a sheet (new in 0.22.0)"
   ]
  },
  {
   "cell_type": "code",
   "execution_count": 34,
   "metadata": {},
   "outputs": [],
   "source": [
    "wb = xw.Book('report_template.xlsx')\n",
    "template_sheet = wb.sheets[0]\n",
    "# Copy the template sheet first!\n",
    "# You could provide a name via copy(name=...)\n",
    "report_sheet = template_sheet.copy()\n",
    "# Collect all template vars (optional)\n",
    "data = dict(perf_data=perf_data, logo=logo,\n",
    "            perf=perf, fig=fig, summary=Markdown(mytext, style))\n",
    "report_sheet.render_template(**data)\n",
    "\n",
    "report_sheet['A1'].select()\n",
    "logo.close()"
   ]
  },
  {
   "cell_type": "markdown",
   "metadata": {},
   "source": [
    "### PDF report"
   ]
  },
  {
   "cell_type": "code",
   "execution_count": 30,
   "metadata": {},
   "outputs": [],
   "source": [
    "report_sheet.to_pdf()"
   ]
  },
  {
   "cell_type": "markdown",
   "metadata": {},
   "source": [
    "### create_report is a convenience wrapper to handle a whole Book"
   ]
  },
  {
   "cell_type": "code",
   "execution_count": 35,
   "metadata": {},
   "outputs": [],
   "source": [
    "wb = create_report('report_template.xlsx',\n",
    "                   'report.xlsx',\n",
    "                   **data)"
   ]
  },
  {
   "cell_type": "code",
   "execution_count": 36,
   "metadata": {},
   "outputs": [],
   "source": [
    "wb.close()"
   ]
  },
  {
   "cell_type": "markdown",
   "metadata": {},
   "source": [
    "### Using an invisible App"
   ]
  },
  {
   "cell_type": "code",
   "execution_count": 38,
   "metadata": {},
   "outputs": [],
   "source": [
    "app = xw.App(visible=False)\n",
    "wb = create_report('report_template.xlsx',\n",
    "                   'report.xlsx',\n",
    "                   **data,\n",
    "                   app=app,\n",
    "                   book_settings={'update_links': False})\n",
    "wb.sheets['Sheet1'].to_pdf()\n",
    "\n",
    "# Clean up\n",
    "wb.sheets.active['A1'].select()\n",
    "wb.save()\n",
    "wb.close()\n",
    "app.quit()"
   ]
  },
  {
   "cell_type": "code",
   "execution_count": null,
   "metadata": {},
   "outputs": [],
   "source": []
  }
 ],
 "metadata": {
  "kernelspec": {
   "display_name": "Python 3",
   "language": "python",
   "name": "python3"
  },
  "language_info": {
   "codemirror_mode": {
    "name": "ipython",
    "version": 3
   },
   "file_extension": ".py",
   "mimetype": "text/x-python",
   "name": "python",
   "nbconvert_exporter": "python",
   "pygments_lexer": "ipython3",
   "version": "3.7.4"
  }
 },
 "nbformat": 4,
 "nbformat_minor": 4
}
