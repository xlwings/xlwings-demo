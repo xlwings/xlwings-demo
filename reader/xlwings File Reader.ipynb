{
 "cells": [
  {
   "cell_type": "code",
   "execution_count": 1,
   "id": "303da88c",
   "metadata": {},
   "outputs": [
    {
     "name": "stdout",
     "output_type": "stream",
     "text": [
      "pd.__version__='1.5.0'\n",
      "xw.__version__='dev'\n",
      "openpyxl.__version__='3.0.10'\n",
      "pyxlsb.__version__='1.0.9'\n"
     ]
    }
   ],
   "source": [
    "import pandas as pd\n",
    "import xlwings as xw\n",
    "import openpyxl\n",
    "import pyxlsb\n",
    "\n",
    "print(f\"{pd.__version__=}\")\n",
    "print(f\"{xw.__version__=}\")\n",
    "print(f\"{openpyxl.__version__=}\")\n",
    "print(f\"{pyxlsb.__version__=}\")"
   ]
  },
  {
   "cell_type": "markdown",
   "id": "c9a56c4d",
   "metadata": {},
   "source": [
    "# Speed"
   ]
  },
  {
   "cell_type": "markdown",
   "id": "baa60b47",
   "metadata": {},
   "source": [
    "### CSV"
   ]
  },
  {
   "cell_type": "code",
   "execution_count": 2,
   "id": "508d074d",
   "metadata": {},
   "outputs": [
    {
     "name": "stdout",
     "output_type": "stream",
     "text": [
      "CPU times: user 11.6 ms, sys: 3.37 ms, total: 14.9 ms\n",
      "Wall time: 19.6 ms\n"
     ]
    }
   ],
   "source": [
    "%%time\n",
    "df_csv = pd.read_csv(\"AAPL.csv\", index_col=\"Date\", parse_dates=[\"Date\"])"
   ]
  },
  {
   "cell_type": "markdown",
   "id": "cbca4f73",
   "metadata": {},
   "source": [
    "### pandas (via OpenPyXL)"
   ]
  },
  {
   "cell_type": "code",
   "execution_count": 3,
   "id": "314fe2f3",
   "metadata": {},
   "outputs": [
    {
     "name": "stdout",
     "output_type": "stream",
     "text": [
      "CPU times: user 673 ms, sys: 9.31 ms, total: 682 ms\n",
      "Wall time: 710 ms\n"
     ]
    }
   ],
   "source": [
    "%%time\n",
    "df_xlsx = pd.read_excel(\"AAPL.xlsx\", sheet_name=0, index_col=\"Date\")"
   ]
  },
  {
   "cell_type": "markdown",
   "id": "2ade10e0",
   "metadata": {},
   "source": [
    "### xlwings"
   ]
  },
  {
   "cell_type": "code",
   "execution_count": 4,
   "id": "536a3595",
   "metadata": {},
   "outputs": [
    {
     "name": "stdout",
     "output_type": "stream",
     "text": [
      "CPU times: user 74.3 ms, sys: 4.83 ms, total: 79.2 ms\n",
      "Wall time: 91.9 ms\n"
     ]
    }
   ],
   "source": [
    "%%time\n",
    "with xw.Book(\"AAPL.xlsx\", mode=\"r\") as book:\n",
    "    sheet = book.sheets[0]\n",
    "    df_xw = sheet.cells.options(\"df\").value"
   ]
  },
  {
   "cell_type": "markdown",
   "id": "35f6b027",
   "metadata": {},
   "source": [
    "### Check if all DataFrames are equal"
   ]
  },
  {
   "cell_type": "code",
   "execution_count": 5,
   "id": "971c0d49",
   "metadata": {},
   "outputs": [
    {
     "data": {
      "text/plain": [
       "True"
      ]
     },
     "execution_count": 5,
     "metadata": {},
     "output_type": "execute_result"
    }
   ],
   "source": [
    "df_xlsx.equals(df_csv) and df_xlsx.equals(df_xw)"
   ]
  },
  {
   "cell_type": "markdown",
   "id": "be7bf824",
   "metadata": {},
   "source": [
    "# Even faster with xlsb!\n",
    "=> Automatic DateTime conversion is currently missing (in both libraries, pandas and xlwings)"
   ]
  },
  {
   "cell_type": "markdown",
   "id": "d3ff52ec",
   "metadata": {},
   "source": [
    "### pandas (via pyxlsb)"
   ]
  },
  {
   "cell_type": "code",
   "execution_count": 6,
   "id": "f32388cc",
   "metadata": {
    "scrolled": true
   },
   "outputs": [
    {
     "name": "stdout",
     "output_type": "stream",
     "text": [
      "CPU times: user 511 ms, sys: 4.65 ms, total: 515 ms\n",
      "Wall time: 522 ms\n"
     ]
    }
   ],
   "source": [
    "%%time\n",
    "df_xlsb = pd.read_excel(\"AAPL.xlsb\", sheet_name=0, index_col=\"Date\")"
   ]
  },
  {
   "cell_type": "markdown",
   "id": "89c5d5d2",
   "metadata": {},
   "source": [
    "### xlwings"
   ]
  },
  {
   "cell_type": "code",
   "execution_count": 7,
   "id": "cac834f6",
   "metadata": {},
   "outputs": [
    {
     "name": "stdout",
     "output_type": "stream",
     "text": [
      "CPU times: user 18.9 ms, sys: 3.9 ms, total: 22.8 ms\n",
      "Wall time: 35 ms\n"
     ]
    }
   ],
   "source": [
    "%%time\n",
    "with xw.Book(\"AAPL.xlsb\", mode=\"r\") as book:\n",
    "    df_xlsb_xw = book.sheets[0].cells.options(\"df\").value"
   ]
  },
  {
   "cell_type": "markdown",
   "id": "bb72a173",
   "metadata": {},
   "source": [
    "### Check if all DataFrames are equal"
   ]
  },
  {
   "cell_type": "code",
   "execution_count": 8,
   "id": "7d4d5d2b",
   "metadata": {},
   "outputs": [
    {
     "data": {
      "text/plain": [
       "True"
      ]
     },
     "execution_count": 8,
     "metadata": {},
     "output_type": "execute_result"
    }
   ],
   "source": [
    "df_xlsb.index = df_xlsb.index.astype(float)\n",
    "df_xlsb_xw.equals(df_xlsb)"
   ]
  },
  {
   "cell_type": "markdown",
   "id": "6d7b403c",
   "metadata": {},
   "source": [
    "# Syntax"
   ]
  },
  {
   "cell_type": "markdown",
   "id": "1b4ce4ee",
   "metadata": {},
   "source": [
    "### pandas"
   ]
  },
  {
   "cell_type": "code",
   "execution_count": 9,
   "id": "7f848c39",
   "metadata": {},
   "outputs": [
    {
     "data": {
      "text/html": [
       "<div>\n",
       "<style scoped>\n",
       "    .dataframe tbody tr th:only-of-type {\n",
       "        vertical-align: middle;\n",
       "    }\n",
       "\n",
       "    .dataframe tbody tr th {\n",
       "        vertical-align: top;\n",
       "    }\n",
       "\n",
       "    .dataframe thead th {\n",
       "        text-align: right;\n",
       "    }\n",
       "</style>\n",
       "<table border=\"1\" class=\"dataframe\">\n",
       "  <thead>\n",
       "    <tr style=\"text-align: right;\">\n",
       "      <th></th>\n",
       "      <th>Open</th>\n",
       "      <th>High</th>\n",
       "      <th>Low</th>\n",
       "      <th>Close</th>\n",
       "      <th>Adj Close</th>\n",
       "    </tr>\n",
       "    <tr>\n",
       "      <th>Date</th>\n",
       "      <th></th>\n",
       "      <th></th>\n",
       "      <th></th>\n",
       "      <th></th>\n",
       "      <th></th>\n",
       "    </tr>\n",
       "  </thead>\n",
       "  <tbody>\n",
       "    <tr>\n",
       "      <th>1980-12-12</th>\n",
       "      <td>0.513393</td>\n",
       "      <td>0.515625</td>\n",
       "      <td>0.513393</td>\n",
       "      <td>0.513393</td>\n",
       "      <td>0.405683</td>\n",
       "    </tr>\n",
       "    <tr>\n",
       "      <th>1980-12-15</th>\n",
       "      <td>0.488839</td>\n",
       "      <td>0.488839</td>\n",
       "      <td>0.486607</td>\n",
       "      <td>0.486607</td>\n",
       "      <td>0.384517</td>\n",
       "    </tr>\n",
       "  </tbody>\n",
       "</table>\n",
       "</div>"
      ],
      "text/plain": [
       "                Open      High       Low     Close  Adj Close\n",
       "Date                                                         \n",
       "1980-12-12  0.513393  0.515625  0.513393  0.513393   0.405683\n",
       "1980-12-15  0.488839  0.488839  0.486607  0.486607   0.384517"
      ]
     },
     "execution_count": 9,
     "metadata": {},
     "output_type": "execute_result"
    }
   ],
   "source": [
    "df = pd.read_excel(\n",
    "    \"AAPL2.xlsx\",\n",
    "    sheet_name=0,\n",
    "    skiprows=10,\n",
    "    usecols=\"B:G\",\n",
    "    nrows=2,\n",
    "    index_col=\"Date\"\n",
    ")\n",
    "df"
   ]
  },
  {
   "cell_type": "markdown",
   "id": "0c29d45f",
   "metadata": {},
   "source": [
    "### xlwings (A1 notation)"
   ]
  },
  {
   "cell_type": "code",
   "execution_count": 10,
   "id": "5601a38a",
   "metadata": {},
   "outputs": [
    {
     "data": {
      "text/html": [
       "<div>\n",
       "<style scoped>\n",
       "    .dataframe tbody tr th:only-of-type {\n",
       "        vertical-align: middle;\n",
       "    }\n",
       "\n",
       "    .dataframe tbody tr th {\n",
       "        vertical-align: top;\n",
       "    }\n",
       "\n",
       "    .dataframe thead th {\n",
       "        text-align: right;\n",
       "    }\n",
       "</style>\n",
       "<table border=\"1\" class=\"dataframe\">\n",
       "  <thead>\n",
       "    <tr style=\"text-align: right;\">\n",
       "      <th></th>\n",
       "      <th>Open</th>\n",
       "      <th>High</th>\n",
       "      <th>Low</th>\n",
       "      <th>Close</th>\n",
       "      <th>Adj Close</th>\n",
       "    </tr>\n",
       "    <tr>\n",
       "      <th>Date</th>\n",
       "      <th></th>\n",
       "      <th></th>\n",
       "      <th></th>\n",
       "      <th></th>\n",
       "      <th></th>\n",
       "    </tr>\n",
       "  </thead>\n",
       "  <tbody>\n",
       "    <tr>\n",
       "      <th>1980-12-12</th>\n",
       "      <td>0.513393</td>\n",
       "      <td>0.515625</td>\n",
       "      <td>0.513393</td>\n",
       "      <td>0.513393</td>\n",
       "      <td>0.405683</td>\n",
       "    </tr>\n",
       "    <tr>\n",
       "      <th>1980-12-15</th>\n",
       "      <td>0.488839</td>\n",
       "      <td>0.488839</td>\n",
       "      <td>0.486607</td>\n",
       "      <td>0.486607</td>\n",
       "      <td>0.384517</td>\n",
       "    </tr>\n",
       "  </tbody>\n",
       "</table>\n",
       "</div>"
      ],
      "text/plain": [
       "                Open      High       Low     Close  Adj Close\n",
       "Date                                                         \n",
       "1980-12-12  0.513393  0.515625  0.513393  0.513393   0.405683\n",
       "1980-12-15  0.488839  0.488839  0.486607  0.486607   0.384517"
      ]
     },
     "execution_count": 10,
     "metadata": {},
     "output_type": "execute_result"
    }
   ],
   "source": [
    "with xw.Book(\"AAPL2.xlsx\", mode=\"r\") as book:\n",
    "    df = book.sheets[0][\"B11:G13\"].options(\"df\").value\n",
    "df"
   ]
  },
  {
   "cell_type": "markdown",
   "id": "1359c7b8",
   "metadata": {},
   "source": [
    "### xlwings (slice notation)"
   ]
  },
  {
   "cell_type": "code",
   "execution_count": 11,
   "id": "50cfdae9",
   "metadata": {},
   "outputs": [
    {
     "data": {
      "text/html": [
       "<div>\n",
       "<style scoped>\n",
       "    .dataframe tbody tr th:only-of-type {\n",
       "        vertical-align: middle;\n",
       "    }\n",
       "\n",
       "    .dataframe tbody tr th {\n",
       "        vertical-align: top;\n",
       "    }\n",
       "\n",
       "    .dataframe thead th {\n",
       "        text-align: right;\n",
       "    }\n",
       "</style>\n",
       "<table border=\"1\" class=\"dataframe\">\n",
       "  <thead>\n",
       "    <tr style=\"text-align: right;\">\n",
       "      <th></th>\n",
       "      <th>Open</th>\n",
       "      <th>High</th>\n",
       "      <th>Low</th>\n",
       "      <th>Close</th>\n",
       "      <th>Adj Close</th>\n",
       "    </tr>\n",
       "    <tr>\n",
       "      <th>Date</th>\n",
       "      <th></th>\n",
       "      <th></th>\n",
       "      <th></th>\n",
       "      <th></th>\n",
       "      <th></th>\n",
       "    </tr>\n",
       "  </thead>\n",
       "  <tbody>\n",
       "    <tr>\n",
       "      <th>1980-12-12</th>\n",
       "      <td>0.513393</td>\n",
       "      <td>0.515625</td>\n",
       "      <td>0.513393</td>\n",
       "      <td>0.513393</td>\n",
       "      <td>0.405683</td>\n",
       "    </tr>\n",
       "    <tr>\n",
       "      <th>1980-12-15</th>\n",
       "      <td>0.488839</td>\n",
       "      <td>0.488839</td>\n",
       "      <td>0.486607</td>\n",
       "      <td>0.486607</td>\n",
       "      <td>0.384517</td>\n",
       "    </tr>\n",
       "  </tbody>\n",
       "</table>\n",
       "</div>"
      ],
      "text/plain": [
       "                Open      High       Low     Close  Adj Close\n",
       "Date                                                         \n",
       "1980-12-12  0.513393  0.515625  0.513393  0.513393   0.405683\n",
       "1980-12-15  0.488839  0.488839  0.486607  0.486607   0.384517"
      ]
     },
     "execution_count": 11,
     "metadata": {},
     "output_type": "execute_result"
    }
   ],
   "source": [
    "with xw.Book(\"AAPL2.xlsx\", mode=\"r\") as book:\n",
    "    sheet = book.sheets[0]\n",
    "    df = sheet[10:13, 1:7].options(\"df\").value\n",
    "df"
   ]
  },
  {
   "cell_type": "markdown",
   "id": "de0c169b",
   "metadata": {},
   "source": [
    "# Named Ranges\n",
    "(Not supported by pandas)"
   ]
  },
  {
   "cell_type": "code",
   "execution_count": 12,
   "id": "de3ae821",
   "metadata": {},
   "outputs": [
    {
     "data": {
      "text/html": [
       "<div>\n",
       "<style scoped>\n",
       "    .dataframe tbody tr th:only-of-type {\n",
       "        vertical-align: middle;\n",
       "    }\n",
       "\n",
       "    .dataframe tbody tr th {\n",
       "        vertical-align: top;\n",
       "    }\n",
       "\n",
       "    .dataframe thead th {\n",
       "        text-align: right;\n",
       "    }\n",
       "</style>\n",
       "<table border=\"1\" class=\"dataframe\">\n",
       "  <thead>\n",
       "    <tr style=\"text-align: right;\">\n",
       "      <th></th>\n",
       "      <th>Value</th>\n",
       "    </tr>\n",
       "    <tr>\n",
       "      <th>Statistic</th>\n",
       "      <th></th>\n",
       "    </tr>\n",
       "  </thead>\n",
       "  <tbody>\n",
       "    <tr>\n",
       "      <th>Enterprise Value</th>\n",
       "      <td>2.42T</td>\n",
       "    </tr>\n",
       "    <tr>\n",
       "      <th>Trailing P/E</th>\n",
       "      <td>2.49T</td>\n",
       "    </tr>\n",
       "    <tr>\n",
       "      <th>Forward P/E</th>\n",
       "      <td>24.86</td>\n",
       "    </tr>\n",
       "  </tbody>\n",
       "</table>\n",
       "</div>"
      ],
      "text/plain": [
       "                  Value\n",
       "Statistic              \n",
       "Enterprise Value  2.42T\n",
       "Trailing P/E      2.49T\n",
       "Forward P/E       24.86"
      ]
     },
     "execution_count": 12,
     "metadata": {},
     "output_type": "execute_result"
    }
   ],
   "source": [
    "with xw.Book(\"AAPL2.xlsx\", mode=\"r\") as book:\n",
    "    sheet = book.sheets[0]\n",
    "    df = sheet[\"statistics\"].options(\"df\").value\n",
    "df"
   ]
  },
  {
   "cell_type": "markdown",
   "id": "12491506",
   "metadata": {},
   "source": [
    "# Not everything is a DataFrame"
   ]
  },
  {
   "cell_type": "code",
   "execution_count": 13,
   "id": "7143cf9b",
   "metadata": {},
   "outputs": [],
   "source": [
    "with xw.Book(\"AAPL2.xlsx\", mode=\"r\") as book:\n",
    "    sheet = book.sheets[0]\n",
    "    myvalue = sheet[\"B2\"].value\n",
    "    mylist = sheet[\"B4:C4\"].value\n",
    "    # Dynamic range expansion!\n",
    "    mydict = sheet[\"B5\"].expand().options(dict).value"
   ]
  },
  {
   "cell_type": "code",
   "execution_count": 14,
   "id": "e0c5a98f",
   "metadata": {},
   "outputs": [
    {
     "data": {
      "text/plain": [
       "'Apple Inc. (AAPL)'"
      ]
     },
     "execution_count": 14,
     "metadata": {},
     "output_type": "execute_result"
    }
   ],
   "source": [
    "myvalue"
   ]
  },
  {
   "cell_type": "code",
   "execution_count": 15,
   "id": "59c45e97",
   "metadata": {},
   "outputs": [
    {
     "data": {
      "text/plain": [
       "['Statistic', 'Value']"
      ]
     },
     "execution_count": 15,
     "metadata": {},
     "output_type": "execute_result"
    }
   ],
   "source": [
    "mylist"
   ]
  },
  {
   "cell_type": "code",
   "execution_count": 16,
   "id": "f7faef02",
   "metadata": {},
   "outputs": [
    {
     "data": {
      "text/plain": [
       "{'Enterprise Value': '2.42T', 'Trailing P/E': '2.49T', 'Forward P/E': 24.86}"
      ]
     },
     "execution_count": 16,
     "metadata": {},
     "output_type": "execute_result"
    }
   ],
   "source": [
    "mydict"
   ]
  },
  {
   "cell_type": "code",
   "execution_count": null,
   "id": "16504c81",
   "metadata": {},
   "outputs": [],
   "source": []
  }
 ],
 "metadata": {
  "kernelspec": {
   "display_name": "Python 3 (ipykernel)",
   "language": "python",
   "name": "python3"
  },
  "language_info": {
   "codemirror_mode": {
    "name": "ipython",
    "version": 3
   },
   "file_extension": ".py",
   "mimetype": "text/x-python",
   "name": "python",
   "nbconvert_exporter": "python",
   "pygments_lexer": "ipython3",
   "version": "3.10.4"
  }
 },
 "nbformat": 4,
 "nbformat_minor": 5
}
