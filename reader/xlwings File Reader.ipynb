{
 "cells": [
  {
   "cell_type": "code",
   "execution_count": 1,
   "id": "303da88c",
   "metadata": {},
   "outputs": [
    {
     "name": "stdout",
     "output_type": "stream",
     "text": [
      "Python: 3.10.6\n",
      "xlwings: 0.28.3\n",
      "OpenPyXL: 3.0.10\n",
      "pyxlsb: 1.0.10\n",
      "pandas: 1.5.1\n"
     ]
    }
   ],
   "source": [
    "import sys\n",
    "import pandas as pd\n",
    "import xlwings as xw\n",
    "import openpyxl\n",
    "import pyxlsb\n",
    "\n",
    "print(f\"Python: {sys.version.split()[0]}\")\n",
    "print(f\"xlwings: {xw.__version__}\")\n",
    "print(f\"OpenPyXL: {openpyxl.__version__}\")\n",
    "print(f\"pyxlsb: {pyxlsb.__version__}\")\n",
    "print(f\"pandas: {pd.__version__}\")"
   ]
  },
  {
   "cell_type": "markdown",
   "id": "090bd51f",
   "metadata": {},
   "source": [
    "## xlwings: Interactive mode (default)"
   ]
  },
  {
   "cell_type": "code",
   "execution_count": 2,
   "id": "a00b1ac5",
   "metadata": {},
   "outputs": [
    {
     "data": {
      "text/html": [
       "<div>\n",
       "<style scoped>\n",
       "    .dataframe tbody tr th:only-of-type {\n",
       "        vertical-align: middle;\n",
       "    }\n",
       "\n",
       "    .dataframe tbody tr th {\n",
       "        vertical-align: top;\n",
       "    }\n",
       "\n",
       "    .dataframe thead th {\n",
       "        text-align: right;\n",
       "    }\n",
       "</style>\n",
       "<table border=\"1\" class=\"dataframe\">\n",
       "  <thead>\n",
       "    <tr style=\"text-align: right;\">\n",
       "      <th></th>\n",
       "      <th>Open</th>\n",
       "      <th>High</th>\n",
       "      <th>Low</th>\n",
       "      <th>Close</th>\n",
       "      <th>Adj Close</th>\n",
       "      <th>Volume</th>\n",
       "    </tr>\n",
       "    <tr>\n",
       "      <th>Date</th>\n",
       "      <th></th>\n",
       "      <th></th>\n",
       "      <th></th>\n",
       "      <th></th>\n",
       "      <th></th>\n",
       "      <th></th>\n",
       "    </tr>\n",
       "  </thead>\n",
       "  <tbody>\n",
       "    <tr>\n",
       "      <th>1980-12-12</th>\n",
       "      <td>0.128348</td>\n",
       "      <td>0.128906</td>\n",
       "      <td>0.128348</td>\n",
       "      <td>0.128348</td>\n",
       "      <td>0.100039</td>\n",
       "      <td>469033600.0</td>\n",
       "    </tr>\n",
       "    <tr>\n",
       "      <th>1980-12-15</th>\n",
       "      <td>0.122210</td>\n",
       "      <td>0.122210</td>\n",
       "      <td>0.121652</td>\n",
       "      <td>0.121652</td>\n",
       "      <td>0.094820</td>\n",
       "      <td>175884800.0</td>\n",
       "    </tr>\n",
       "    <tr>\n",
       "      <th>1980-12-16</th>\n",
       "      <td>0.113281</td>\n",
       "      <td>0.113281</td>\n",
       "      <td>0.112723</td>\n",
       "      <td>0.112723</td>\n",
       "      <td>0.087861</td>\n",
       "      <td>105728000.0</td>\n",
       "    </tr>\n",
       "    <tr>\n",
       "      <th>1980-12-17</th>\n",
       "      <td>0.115513</td>\n",
       "      <td>0.116071</td>\n",
       "      <td>0.115513</td>\n",
       "      <td>0.115513</td>\n",
       "      <td>0.090035</td>\n",
       "      <td>86441600.0</td>\n",
       "    </tr>\n",
       "    <tr>\n",
       "      <th>1980-12-18</th>\n",
       "      <td>0.118862</td>\n",
       "      <td>0.119420</td>\n",
       "      <td>0.118862</td>\n",
       "      <td>0.118862</td>\n",
       "      <td>0.092646</td>\n",
       "      <td>73449600.0</td>\n",
       "    </tr>\n",
       "    <tr>\n",
       "      <th>1980-12-19</th>\n",
       "      <td>0.126116</td>\n",
       "      <td>0.126674</td>\n",
       "      <td>0.126116</td>\n",
       "      <td>0.126116</td>\n",
       "      <td>0.098300</td>\n",
       "      <td>48630400.0</td>\n",
       "    </tr>\n",
       "    <tr>\n",
       "      <th>1980-12-22</th>\n",
       "      <td>0.132254</td>\n",
       "      <td>0.132813</td>\n",
       "      <td>0.132254</td>\n",
       "      <td>0.132254</td>\n",
       "      <td>0.103084</td>\n",
       "      <td>37363200.0</td>\n",
       "    </tr>\n",
       "    <tr>\n",
       "      <th>1980-12-23</th>\n",
       "      <td>0.137835</td>\n",
       "      <td>0.138393</td>\n",
       "      <td>0.137835</td>\n",
       "      <td>0.137835</td>\n",
       "      <td>0.107434</td>\n",
       "      <td>46950400.0</td>\n",
       "    </tr>\n",
       "    <tr>\n",
       "      <th>1980-12-24</th>\n",
       "      <td>0.145089</td>\n",
       "      <td>0.145647</td>\n",
       "      <td>0.145089</td>\n",
       "      <td>0.145089</td>\n",
       "      <td>0.113088</td>\n",
       "      <td>48003200.0</td>\n",
       "    </tr>\n",
       "  </tbody>\n",
       "</table>\n",
       "</div>"
      ],
      "text/plain": [
       "                Open      High       Low     Close  Adj Close       Volume\n",
       "Date                                                                      \n",
       "1980-12-12  0.128348  0.128906  0.128348  0.128348   0.100039  469033600.0\n",
       "1980-12-15  0.122210  0.122210  0.121652  0.121652   0.094820  175884800.0\n",
       "1980-12-16  0.113281  0.113281  0.112723  0.112723   0.087861  105728000.0\n",
       "1980-12-17  0.115513  0.116071  0.115513  0.115513   0.090035   86441600.0\n",
       "1980-12-18  0.118862  0.119420  0.118862  0.118862   0.092646   73449600.0\n",
       "1980-12-19  0.126116  0.126674  0.126116  0.126116   0.098300   48630400.0\n",
       "1980-12-22  0.132254  0.132813  0.132254  0.132254   0.103084   37363200.0\n",
       "1980-12-23  0.137835  0.138393  0.137835  0.137835   0.107434   46950400.0\n",
       "1980-12-24  0.145089  0.145647  0.145089  0.145089   0.113088   48003200.0"
      ]
     },
     "execution_count": 2,
     "metadata": {},
     "output_type": "execute_result"
    }
   ],
   "source": [
    "book = xw.Book(\"AAPL.xlsx\")\n",
    "sheet = book.sheets[0]\n",
    "df1 = sheet[\"A1:G10\"].options(\"df\").value\n",
    "df1"
   ]
  },
  {
   "cell_type": "code",
   "execution_count": 3,
   "id": "f4c76054",
   "metadata": {},
   "outputs": [],
   "source": [
    "book.app.quit()"
   ]
  },
  {
   "cell_type": "markdown",
   "id": "dcf42ad7",
   "metadata": {},
   "source": [
    "## xlwings: Read mode"
   ]
  },
  {
   "cell_type": "code",
   "execution_count": 4,
   "id": "0cefa5f5",
   "metadata": {},
   "outputs": [
    {
     "data": {
      "text/html": [
       "<div>\n",
       "<style scoped>\n",
       "    .dataframe tbody tr th:only-of-type {\n",
       "        vertical-align: middle;\n",
       "    }\n",
       "\n",
       "    .dataframe tbody tr th {\n",
       "        vertical-align: top;\n",
       "    }\n",
       "\n",
       "    .dataframe thead th {\n",
       "        text-align: right;\n",
       "    }\n",
       "</style>\n",
       "<table border=\"1\" class=\"dataframe\">\n",
       "  <thead>\n",
       "    <tr style=\"text-align: right;\">\n",
       "      <th></th>\n",
       "      <th>Open</th>\n",
       "      <th>High</th>\n",
       "      <th>Low</th>\n",
       "      <th>Close</th>\n",
       "      <th>Adj Close</th>\n",
       "      <th>Volume</th>\n",
       "    </tr>\n",
       "    <tr>\n",
       "      <th>Date</th>\n",
       "      <th></th>\n",
       "      <th></th>\n",
       "      <th></th>\n",
       "      <th></th>\n",
       "      <th></th>\n",
       "      <th></th>\n",
       "    </tr>\n",
       "  </thead>\n",
       "  <tbody>\n",
       "    <tr>\n",
       "      <th>1980-12-12</th>\n",
       "      <td>0.128348</td>\n",
       "      <td>0.128906</td>\n",
       "      <td>0.128348</td>\n",
       "      <td>0.128348</td>\n",
       "      <td>0.100039</td>\n",
       "      <td>469033600.0</td>\n",
       "    </tr>\n",
       "    <tr>\n",
       "      <th>1980-12-15</th>\n",
       "      <td>0.122210</td>\n",
       "      <td>0.122210</td>\n",
       "      <td>0.121652</td>\n",
       "      <td>0.121652</td>\n",
       "      <td>0.094820</td>\n",
       "      <td>175884800.0</td>\n",
       "    </tr>\n",
       "    <tr>\n",
       "      <th>1980-12-16</th>\n",
       "      <td>0.113281</td>\n",
       "      <td>0.113281</td>\n",
       "      <td>0.112723</td>\n",
       "      <td>0.112723</td>\n",
       "      <td>0.087861</td>\n",
       "      <td>105728000.0</td>\n",
       "    </tr>\n",
       "    <tr>\n",
       "      <th>1980-12-17</th>\n",
       "      <td>0.115513</td>\n",
       "      <td>0.116071</td>\n",
       "      <td>0.115513</td>\n",
       "      <td>0.115513</td>\n",
       "      <td>0.090035</td>\n",
       "      <td>86441600.0</td>\n",
       "    </tr>\n",
       "    <tr>\n",
       "      <th>1980-12-18</th>\n",
       "      <td>0.118862</td>\n",
       "      <td>0.119420</td>\n",
       "      <td>0.118862</td>\n",
       "      <td>0.118862</td>\n",
       "      <td>0.092646</td>\n",
       "      <td>73449600.0</td>\n",
       "    </tr>\n",
       "    <tr>\n",
       "      <th>1980-12-19</th>\n",
       "      <td>0.126116</td>\n",
       "      <td>0.126674</td>\n",
       "      <td>0.126116</td>\n",
       "      <td>0.126116</td>\n",
       "      <td>0.098300</td>\n",
       "      <td>48630400.0</td>\n",
       "    </tr>\n",
       "    <tr>\n",
       "      <th>1980-12-22</th>\n",
       "      <td>0.132254</td>\n",
       "      <td>0.132813</td>\n",
       "      <td>0.132254</td>\n",
       "      <td>0.132254</td>\n",
       "      <td>0.103084</td>\n",
       "      <td>37363200.0</td>\n",
       "    </tr>\n",
       "    <tr>\n",
       "      <th>1980-12-23</th>\n",
       "      <td>0.137835</td>\n",
       "      <td>0.138393</td>\n",
       "      <td>0.137835</td>\n",
       "      <td>0.137835</td>\n",
       "      <td>0.107434</td>\n",
       "      <td>46950400.0</td>\n",
       "    </tr>\n",
       "    <tr>\n",
       "      <th>1980-12-24</th>\n",
       "      <td>0.145089</td>\n",
       "      <td>0.145647</td>\n",
       "      <td>0.145089</td>\n",
       "      <td>0.145089</td>\n",
       "      <td>0.113088</td>\n",
       "      <td>48003200.0</td>\n",
       "    </tr>\n",
       "  </tbody>\n",
       "</table>\n",
       "</div>"
      ],
      "text/plain": [
       "                Open      High       Low     Close  Adj Close       Volume\n",
       "Date                                                                      \n",
       "1980-12-12  0.128348  0.128906  0.128348  0.128348   0.100039  469033600.0\n",
       "1980-12-15  0.122210  0.122210  0.121652  0.121652   0.094820  175884800.0\n",
       "1980-12-16  0.113281  0.113281  0.112723  0.112723   0.087861  105728000.0\n",
       "1980-12-17  0.115513  0.116071  0.115513  0.115513   0.090035   86441600.0\n",
       "1980-12-18  0.118862  0.119420  0.118862  0.118862   0.092646   73449600.0\n",
       "1980-12-19  0.126116  0.126674  0.126116  0.126116   0.098300   48630400.0\n",
       "1980-12-22  0.132254  0.132813  0.132254  0.132254   0.103084   37363200.0\n",
       "1980-12-23  0.137835  0.138393  0.137835  0.137835   0.107434   46950400.0\n",
       "1980-12-24  0.145089  0.145647  0.145089  0.145089   0.113088   48003200.0"
      ]
     },
     "execution_count": 4,
     "metadata": {},
     "output_type": "execute_result"
    }
   ],
   "source": [
    "with xw.Book(\"AAPL.xlsx\", mode=\"r\") as book:\n",
    "    sheet = book.sheets[0]\n",
    "    df2 = sheet[\"A1:G10\"].options(\"df\").value\n",
    "df2"
   ]
  },
  {
   "cell_type": "code",
   "execution_count": 5,
   "id": "f2643a0c",
   "metadata": {},
   "outputs": [
    {
     "data": {
      "text/plain": [
       "True"
      ]
     },
     "execution_count": 5,
     "metadata": {},
     "output_type": "execute_result"
    }
   ],
   "source": [
    "df1.equals(df2)"
   ]
  },
  {
   "cell_type": "markdown",
   "id": "c9a56c4d",
   "metadata": {},
   "source": [
    "# Speed"
   ]
  },
  {
   "cell_type": "markdown",
   "id": "cbca4f73",
   "metadata": {},
   "source": [
    "### pandas (via OpenPyXL)"
   ]
  },
  {
   "cell_type": "code",
   "execution_count": 6,
   "id": "314fe2f3",
   "metadata": {},
   "outputs": [
    {
     "name": "stdout",
     "output_type": "stream",
     "text": [
      "CPU times: user 801 ms, sys: 16.1 ms, total: 818 ms\n",
      "Wall time: 855 ms\n"
     ]
    }
   ],
   "source": [
    "%%time\n",
    "df_xlsx = pd.read_excel(\"AAPL.xlsx\", sheet_name=0, index_col=\"Date\")"
   ]
  },
  {
   "cell_type": "markdown",
   "id": "2ade10e0",
   "metadata": {},
   "source": [
    "### xlwings"
   ]
  },
  {
   "cell_type": "code",
   "execution_count": 7,
   "id": "536a3595",
   "metadata": {},
   "outputs": [
    {
     "name": "stdout",
     "output_type": "stream",
     "text": [
      "CPU times: user 79.6 ms, sys: 5.57 ms, total: 85.2 ms\n",
      "Wall time: 101 ms\n"
     ]
    }
   ],
   "source": [
    "%%time\n",
    "with xw.Book(\"AAPL.xlsx\", mode=\"r\") as book:\n",
    "    sheet = book.sheets[0]\n",
    "    df_xw = sheet.cells.options(\"df\").value"
   ]
  },
  {
   "cell_type": "markdown",
   "id": "35f6b027",
   "metadata": {},
   "source": [
    "### Check if all DataFrames are equal"
   ]
  },
  {
   "cell_type": "code",
   "execution_count": 8,
   "id": "971c0d49",
   "metadata": {},
   "outputs": [
    {
     "data": {
      "text/plain": [
       "True"
      ]
     },
     "execution_count": 8,
     "metadata": {},
     "output_type": "execute_result"
    }
   ],
   "source": [
    "df_xlsx[\"Volume\"] = df_xlsx[\"Volume\"].astype(float)\n",
    "df_xlsx.equals(df_xw)"
   ]
  },
  {
   "cell_type": "markdown",
   "id": "be7bf824",
   "metadata": {},
   "source": [
    "# Even faster with xlsb!"
   ]
  },
  {
   "cell_type": "markdown",
   "id": "d3ff52ec",
   "metadata": {},
   "source": [
    "### pandas (via pyxlsb)"
   ]
  },
  {
   "cell_type": "code",
   "execution_count": 9,
   "id": "f32388cc",
   "metadata": {
    "scrolled": true
   },
   "outputs": [
    {
     "name": "stdout",
     "output_type": "stream",
     "text": [
      "CPU times: user 576 ms, sys: 8.16 ms, total: 584 ms\n",
      "Wall time: 591 ms\n"
     ]
    }
   ],
   "source": [
    "%%time\n",
    "df_xlsb = pd.read_excel(\"AAPL.xlsb\", sheet_name=0, index_col=\"Date\")"
   ]
  },
  {
   "cell_type": "markdown",
   "id": "89c5d5d2",
   "metadata": {},
   "source": [
    "### xlwings"
   ]
  },
  {
   "cell_type": "code",
   "execution_count": 10,
   "id": "cac834f6",
   "metadata": {},
   "outputs": [
    {
     "name": "stdout",
     "output_type": "stream",
     "text": [
      "CPU times: user 23.7 ms, sys: 4.83 ms, total: 28.5 ms\n",
      "Wall time: 38.8 ms\n"
     ]
    }
   ],
   "source": [
    "%%time\n",
    "with xw.Book(\"AAPL.xlsb\", mode=\"r\") as book:\n",
    "    df_xlsb_xw = book.sheets[0].cells.options(\"df\").value"
   ]
  },
  {
   "cell_type": "markdown",
   "id": "bb72a173",
   "metadata": {},
   "source": [
    "### Check if all DataFrames are equal"
   ]
  },
  {
   "cell_type": "code",
   "execution_count": 11,
   "id": "7d4d5d2b",
   "metadata": {},
   "outputs": [
    {
     "data": {
      "text/plain": [
       "True"
      ]
     },
     "execution_count": 11,
     "metadata": {},
     "output_type": "execute_result"
    }
   ],
   "source": [
    "df_xlsb.index = df_xlsb.index.astype(float)\n",
    "df_xlsb[\"Volume\"] = df_xlsb[\"Volume\"].astype(float)\n",
    "df_xlsb_xw.equals(df_xlsb)"
   ]
  },
  {
   "cell_type": "markdown",
   "id": "6d7b403c",
   "metadata": {},
   "source": [
    "# Syntax"
   ]
  },
  {
   "cell_type": "markdown",
   "id": "1b4ce4ee",
   "metadata": {},
   "source": [
    "### pandas"
   ]
  },
  {
   "cell_type": "code",
   "execution_count": 12,
   "id": "7f848c39",
   "metadata": {},
   "outputs": [
    {
     "data": {
      "text/html": [
       "<div>\n",
       "<style scoped>\n",
       "    .dataframe tbody tr th:only-of-type {\n",
       "        vertical-align: middle;\n",
       "    }\n",
       "\n",
       "    .dataframe tbody tr th {\n",
       "        vertical-align: top;\n",
       "    }\n",
       "\n",
       "    .dataframe thead th {\n",
       "        text-align: right;\n",
       "    }\n",
       "</style>\n",
       "<table border=\"1\" class=\"dataframe\">\n",
       "  <thead>\n",
       "    <tr style=\"text-align: right;\">\n",
       "      <th></th>\n",
       "      <th>Open</th>\n",
       "      <th>High</th>\n",
       "      <th>Low</th>\n",
       "      <th>Close</th>\n",
       "      <th>Adj Close</th>\n",
       "    </tr>\n",
       "    <tr>\n",
       "      <th>Date</th>\n",
       "      <th></th>\n",
       "      <th></th>\n",
       "      <th></th>\n",
       "      <th></th>\n",
       "      <th></th>\n",
       "    </tr>\n",
       "  </thead>\n",
       "  <tbody>\n",
       "    <tr>\n",
       "      <th>1980-12-12</th>\n",
       "      <td>0.513393</td>\n",
       "      <td>0.515625</td>\n",
       "      <td>0.513393</td>\n",
       "      <td>0.513393</td>\n",
       "      <td>0.405683</td>\n",
       "    </tr>\n",
       "    <tr>\n",
       "      <th>1980-12-15</th>\n",
       "      <td>0.488839</td>\n",
       "      <td>0.488839</td>\n",
       "      <td>0.486607</td>\n",
       "      <td>0.486607</td>\n",
       "      <td>0.384517</td>\n",
       "    </tr>\n",
       "  </tbody>\n",
       "</table>\n",
       "</div>"
      ],
      "text/plain": [
       "                Open      High       Low     Close  Adj Close\n",
       "Date                                                         \n",
       "1980-12-12  0.513393  0.515625  0.513393  0.513393   0.405683\n",
       "1980-12-15  0.488839  0.488839  0.486607  0.486607   0.384517"
      ]
     },
     "execution_count": 12,
     "metadata": {},
     "output_type": "execute_result"
    }
   ],
   "source": [
    "df = pd.read_excel(\n",
    "    \"AAPL2.xlsx\",\n",
    "    sheet_name=0,\n",
    "    skiprows=10,\n",
    "    usecols=\"B:G\",\n",
    "    nrows=2,\n",
    "    index_col=\"Date\"\n",
    ")\n",
    "df"
   ]
  },
  {
   "cell_type": "markdown",
   "id": "5def878b",
   "metadata": {},
   "source": [
    "### OpenPyXL"
   ]
  },
  {
   "cell_type": "code",
   "execution_count": 13,
   "id": "da7ecefd",
   "metadata": {},
   "outputs": [
    {
     "data": {
      "text/html": [
       "<div>\n",
       "<style scoped>\n",
       "    .dataframe tbody tr th:only-of-type {\n",
       "        vertical-align: middle;\n",
       "    }\n",
       "\n",
       "    .dataframe tbody tr th {\n",
       "        vertical-align: top;\n",
       "    }\n",
       "\n",
       "    .dataframe thead th {\n",
       "        text-align: right;\n",
       "    }\n",
       "</style>\n",
       "<table border=\"1\" class=\"dataframe\">\n",
       "  <thead>\n",
       "    <tr style=\"text-align: right;\">\n",
       "      <th></th>\n",
       "      <th>Open</th>\n",
       "      <th>High</th>\n",
       "      <th>Low</th>\n",
       "      <th>Close</th>\n",
       "      <th>Adj Close</th>\n",
       "    </tr>\n",
       "    <tr>\n",
       "      <th>Date</th>\n",
       "      <th></th>\n",
       "      <th></th>\n",
       "      <th></th>\n",
       "      <th></th>\n",
       "      <th></th>\n",
       "    </tr>\n",
       "  </thead>\n",
       "  <tbody>\n",
       "    <tr>\n",
       "      <th>1980-12-12</th>\n",
       "      <td>0.513393</td>\n",
       "      <td>0.515625</td>\n",
       "      <td>0.513393</td>\n",
       "      <td>0.513393</td>\n",
       "      <td>0.405683</td>\n",
       "    </tr>\n",
       "    <tr>\n",
       "      <th>1980-12-15</th>\n",
       "      <td>0.488839</td>\n",
       "      <td>0.488839</td>\n",
       "      <td>0.486607</td>\n",
       "      <td>0.486607</td>\n",
       "      <td>0.384517</td>\n",
       "    </tr>\n",
       "  </tbody>\n",
       "</table>\n",
       "</div>"
      ],
      "text/plain": [
       "                Open      High       Low     Close  Adj Close\n",
       "Date                                                         \n",
       "1980-12-12  0.513393  0.515625  0.513393  0.513393   0.405683\n",
       "1980-12-15  0.488839  0.488839  0.486607  0.486607   0.384517"
      ]
     },
     "execution_count": 13,
     "metadata": {},
     "output_type": "execute_result"
    }
   ],
   "source": [
    "book = openpyxl.load_workbook(\n",
    "    \"AAPL2.xlsx\", read_only=True, data_only=True\n",
    ")\n",
    "sheet = book.worksheets[0]\n",
    "data = [\n",
    "    row\n",
    "    for row in sheet.iter_rows(\n",
    "        min_row=11, max_row=13,\n",
    "        min_col=2, max_col=7,\n",
    "        values_only=True\n",
    "    )\n",
    "]\n",
    "pd.DataFrame(data=data[1:], columns=data[0]).set_index(\"Date\")"
   ]
  },
  {
   "cell_type": "markdown",
   "id": "0c29d45f",
   "metadata": {},
   "source": [
    "### xlwings (A1 notation)"
   ]
  },
  {
   "cell_type": "code",
   "execution_count": 14,
   "id": "5601a38a",
   "metadata": {},
   "outputs": [
    {
     "data": {
      "text/html": [
       "<div>\n",
       "<style scoped>\n",
       "    .dataframe tbody tr th:only-of-type {\n",
       "        vertical-align: middle;\n",
       "    }\n",
       "\n",
       "    .dataframe tbody tr th {\n",
       "        vertical-align: top;\n",
       "    }\n",
       "\n",
       "    .dataframe thead th {\n",
       "        text-align: right;\n",
       "    }\n",
       "</style>\n",
       "<table border=\"1\" class=\"dataframe\">\n",
       "  <thead>\n",
       "    <tr style=\"text-align: right;\">\n",
       "      <th></th>\n",
       "      <th>Open</th>\n",
       "      <th>High</th>\n",
       "      <th>Low</th>\n",
       "      <th>Close</th>\n",
       "      <th>Adj Close</th>\n",
       "    </tr>\n",
       "    <tr>\n",
       "      <th>Date</th>\n",
       "      <th></th>\n",
       "      <th></th>\n",
       "      <th></th>\n",
       "      <th></th>\n",
       "      <th></th>\n",
       "    </tr>\n",
       "  </thead>\n",
       "  <tbody>\n",
       "    <tr>\n",
       "      <th>1980-12-12</th>\n",
       "      <td>0.513393</td>\n",
       "      <td>0.515625</td>\n",
       "      <td>0.513393</td>\n",
       "      <td>0.513393</td>\n",
       "      <td>0.405683</td>\n",
       "    </tr>\n",
       "    <tr>\n",
       "      <th>1980-12-15</th>\n",
       "      <td>0.488839</td>\n",
       "      <td>0.488839</td>\n",
       "      <td>0.486607</td>\n",
       "      <td>0.486607</td>\n",
       "      <td>0.384517</td>\n",
       "    </tr>\n",
       "  </tbody>\n",
       "</table>\n",
       "</div>"
      ],
      "text/plain": [
       "                Open      High       Low     Close  Adj Close\n",
       "Date                                                         \n",
       "1980-12-12  0.513393  0.515625  0.513393  0.513393   0.405683\n",
       "1980-12-15  0.488839  0.488839  0.486607  0.486607   0.384517"
      ]
     },
     "execution_count": 14,
     "metadata": {},
     "output_type": "execute_result"
    }
   ],
   "source": [
    "with xw.Book(\"AAPL2.xlsx\", mode=\"r\") as book:\n",
    "    df = book.sheets[0][\"B11:G13\"].options(\"df\").value\n",
    "df"
   ]
  },
  {
   "cell_type": "markdown",
   "id": "1359c7b8",
   "metadata": {},
   "source": [
    "### xlwings (slice notation)"
   ]
  },
  {
   "cell_type": "code",
   "execution_count": 15,
   "id": "50cfdae9",
   "metadata": {},
   "outputs": [
    {
     "data": {
      "text/html": [
       "<div>\n",
       "<style scoped>\n",
       "    .dataframe tbody tr th:only-of-type {\n",
       "        vertical-align: middle;\n",
       "    }\n",
       "\n",
       "    .dataframe tbody tr th {\n",
       "        vertical-align: top;\n",
       "    }\n",
       "\n",
       "    .dataframe thead th {\n",
       "        text-align: right;\n",
       "    }\n",
       "</style>\n",
       "<table border=\"1\" class=\"dataframe\">\n",
       "  <thead>\n",
       "    <tr style=\"text-align: right;\">\n",
       "      <th></th>\n",
       "      <th>Open</th>\n",
       "      <th>High</th>\n",
       "      <th>Low</th>\n",
       "      <th>Close</th>\n",
       "      <th>Adj Close</th>\n",
       "    </tr>\n",
       "    <tr>\n",
       "      <th>Date</th>\n",
       "      <th></th>\n",
       "      <th></th>\n",
       "      <th></th>\n",
       "      <th></th>\n",
       "      <th></th>\n",
       "    </tr>\n",
       "  </thead>\n",
       "  <tbody>\n",
       "    <tr>\n",
       "      <th>1980-12-12</th>\n",
       "      <td>0.513393</td>\n",
       "      <td>0.515625</td>\n",
       "      <td>0.513393</td>\n",
       "      <td>0.513393</td>\n",
       "      <td>0.405683</td>\n",
       "    </tr>\n",
       "    <tr>\n",
       "      <th>1980-12-15</th>\n",
       "      <td>0.488839</td>\n",
       "      <td>0.488839</td>\n",
       "      <td>0.486607</td>\n",
       "      <td>0.486607</td>\n",
       "      <td>0.384517</td>\n",
       "    </tr>\n",
       "  </tbody>\n",
       "</table>\n",
       "</div>"
      ],
      "text/plain": [
       "                Open      High       Low     Close  Adj Close\n",
       "Date                                                         \n",
       "1980-12-12  0.513393  0.515625  0.513393  0.513393   0.405683\n",
       "1980-12-15  0.488839  0.488839  0.486607  0.486607   0.384517"
      ]
     },
     "execution_count": 15,
     "metadata": {},
     "output_type": "execute_result"
    }
   ],
   "source": [
    "with xw.Book(\"AAPL2.xlsx\", mode=\"r\") as book:\n",
    "    df = book.sheets[0][10:13, 1:7].options(\"df\").value\n",
    "df"
   ]
  },
  {
   "cell_type": "markdown",
   "id": "de0c169b",
   "metadata": {},
   "source": [
    "# Named Ranges"
   ]
  },
  {
   "cell_type": "code",
   "execution_count": 16,
   "id": "de3ae821",
   "metadata": {},
   "outputs": [
    {
     "data": {
      "text/html": [
       "<div>\n",
       "<style scoped>\n",
       "    .dataframe tbody tr th:only-of-type {\n",
       "        vertical-align: middle;\n",
       "    }\n",
       "\n",
       "    .dataframe tbody tr th {\n",
       "        vertical-align: top;\n",
       "    }\n",
       "\n",
       "    .dataframe thead th {\n",
       "        text-align: right;\n",
       "    }\n",
       "</style>\n",
       "<table border=\"1\" class=\"dataframe\">\n",
       "  <thead>\n",
       "    <tr style=\"text-align: right;\">\n",
       "      <th></th>\n",
       "      <th>Value</th>\n",
       "    </tr>\n",
       "    <tr>\n",
       "      <th>Statistic</th>\n",
       "      <th></th>\n",
       "    </tr>\n",
       "  </thead>\n",
       "  <tbody>\n",
       "    <tr>\n",
       "      <th>Enterprise Value</th>\n",
       "      <td>2.42T</td>\n",
       "    </tr>\n",
       "    <tr>\n",
       "      <th>Trailing P/E</th>\n",
       "      <td>2.49T</td>\n",
       "    </tr>\n",
       "    <tr>\n",
       "      <th>Forward P/E</th>\n",
       "      <td>24.86</td>\n",
       "    </tr>\n",
       "  </tbody>\n",
       "</table>\n",
       "</div>"
      ],
      "text/plain": [
       "                  Value\n",
       "Statistic              \n",
       "Enterprise Value  2.42T\n",
       "Trailing P/E      2.49T\n",
       "Forward P/E       24.86"
      ]
     },
     "execution_count": 16,
     "metadata": {},
     "output_type": "execute_result"
    }
   ],
   "source": [
    "# Direct access\n",
    "with xw.Book(\"AAPL2.xlsx\", mode=\"r\") as book:\n",
    "    sheet = book.sheets[0]\n",
    "    df = sheet[\"statistics\"].options(\"df\").value\n",
    "df"
   ]
  },
  {
   "cell_type": "code",
   "execution_count": 17,
   "id": "a208daa1",
   "metadata": {},
   "outputs": [
    {
     "name": "stdout",
     "output_type": "stream",
     "text": [
      "statistics\n",
      "<Range [AAPL2.xlsx]AAPL!$B$4:$C$7>\n",
      "AAPL\n",
      "                  Value\n",
      "Statistic              \n",
      "Enterprise Value  2.42T\n",
      "Trailing P/E      2.49T\n",
      "Forward P/E       24.86\n"
     ]
    }
   ],
   "source": [
    "# Names collection\n",
    "with xw.Book(\"AAPL2.xlsx\", mode=\"r\") as book:\n",
    "    for name in book.names:\n",
    "        print(name.name)\n",
    "        print(name.refers_to_range)\n",
    "        print(name.refers_to_range.sheet.name)\n",
    "        print(name.refers_to_range.options(\"df\").value)"
   ]
  },
  {
   "cell_type": "markdown",
   "id": "12491506",
   "metadata": {},
   "source": [
    "# Not everything is a DataFrame"
   ]
  },
  {
   "cell_type": "code",
   "execution_count": 18,
   "id": "7143cf9b",
   "metadata": {},
   "outputs": [],
   "source": [
    "with xw.Book(\"AAPL2.xlsx\", mode=\"r\") as book:\n",
    "    sheet = book.sheets[0]\n",
    "    myvalue = sheet[\"B2\"].value\n",
    "    mylist = sheet[\"B4:C4\"].value\n",
    "    # Dynamic range expansion!\n",
    "    mydict = sheet[\"B5\"].expand().options(dict).value"
   ]
  },
  {
   "cell_type": "code",
   "execution_count": 19,
   "id": "e0c5a98f",
   "metadata": {},
   "outputs": [
    {
     "data": {
      "text/plain": [
       "'Apple Inc. (AAPL)'"
      ]
     },
     "execution_count": 19,
     "metadata": {},
     "output_type": "execute_result"
    }
   ],
   "source": [
    "myvalue"
   ]
  },
  {
   "cell_type": "code",
   "execution_count": 20,
   "id": "59c45e97",
   "metadata": {},
   "outputs": [
    {
     "data": {
      "text/plain": [
       "['Statistic', 'Value']"
      ]
     },
     "execution_count": 20,
     "metadata": {},
     "output_type": "execute_result"
    }
   ],
   "source": [
    "mylist"
   ]
  },
  {
   "cell_type": "code",
   "execution_count": 21,
   "id": "f7faef02",
   "metadata": {},
   "outputs": [
    {
     "data": {
      "text/plain": [
       "{'Enterprise Value': '2.42T', 'Trailing P/E': '2.49T', 'Forward P/E': 24.86}"
      ]
     },
     "execution_count": 21,
     "metadata": {},
     "output_type": "execute_result"
    }
   ],
   "source": [
    "mydict"
   ]
  }
 ],
 "metadata": {
  "kernelspec": {
   "display_name": "Python 3 (ipykernel)",
   "language": "python",
   "name": "python3"
  },
  "language_info": {
   "codemirror_mode": {
    "name": "ipython",
    "version": 3
   },
   "file_extension": ".py",
   "mimetype": "text/x-python",
   "name": "python",
   "nbconvert_exporter": "python",
   "pygments_lexer": "ipython3",
   "version": "3.10.6"
  }
 },
 "nbformat": 4,
 "nbformat_minor": 5
}
